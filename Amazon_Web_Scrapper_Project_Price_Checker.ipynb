{
  "nbformat": 4,
  "nbformat_minor": 0,
  "metadata": {
    "colab": {
      "provenance": [],
      "authorship_tag": "ABX9TyP+N5gFrafCuxJeCGlrN5k8",
      "include_colab_link": true
    },
    "kernelspec": {
      "name": "python3",
      "display_name": "Python 3"
    },
    "language_info": {
      "name": "python"
    }
  },
  "cells": [
    {
      "cell_type": "markdown",
      "metadata": {
        "id": "view-in-github",
        "colab_type": "text"
      },
      "source": [
        "<a href=\"https://colab.research.google.com/github/NavyaSri-2001/Python_Projects/blob/main/Amazon_Web_Scrapper_Project_Price_Checker.ipynb\" target=\"_parent\"><img src=\"https://colab.research.google.com/assets/colab-badge.svg\" alt=\"Open In Colab\"/></a>"
      ]
    },
    {
      "cell_type": "code",
      "execution_count": 32,
      "metadata": {
        "id": "pywHhqsnJvZn"
      },
      "outputs": [],
      "source": [
        "#import libraries\n",
        "\n",
        "from bs4 import BeautifulSoup\n",
        "import requests\n",
        "import time\n",
        "import smtplib\n",
        "import datetime"
      ]
    },
    {
      "cell_type": "code",
      "source": [
        "#Connect to website and pull in data\n",
        "\n",
        "URL= 'https://www.amazon.in/Nogaiya-Glass-Pendant-Ceiling-Hanging/dp/B08BP9QMFC/?_encoding=UTF8&pd_rd_w=TeCjc&content-id=amzn1.sym.7c0639cc-01b1-4655-8b88-a71d79ef847a&pf_rd_p=7c0639cc-01b1-4655-8b88-a71d79ef847a&pf_rd_r=0Y6E2ZC1WNC1X572G6BG&pd_rd_wg=ah1Hv&pd_rd_r=b6202ce2-b8b8-434b-9d5a-596aab76e3cb&ref_=pd_gw_unk'\n",
        "\n",
        "headers= {\"User-Agent\": \"Mozilla/5.0 (Windows NT 10.0; Win64; x64) AppleWebKit/537.36 (KHTML, like Gecko) Chrome/116.0.0.0 Safari/537.36\",\n",
        "    \"X-Amzn-Trace-Id\": \"Root=1-6505ee8f-77f120f96bc402a050e24ad0\"}\n",
        "\n",
        "page= requests.get(URL, headers=headers)\n",
        "soup1= BeautifulSoup(page.content,\"html.parser\")\n",
        "soup2 = BeautifulSoup(soup1.prettify(), \"html.parser\")\n",
        "\n",
        "title = soup2.find(id='productTitle').get_text()\n",
        "\n",
        "price= soup2.find(class_='a-price-whole').get_text()\n",
        "\n",
        "\n",
        "print (title)\n",
        "print (price)\n"
      ],
      "metadata": {
        "colab": {
          "base_uri": "https://localhost:8080/"
        },
        "id": "E8pKaujeLASR",
        "outputId": "558cf306-38c7-41e8-a9af-f5a1c7851056"
      },
      "execution_count": 46,
      "outputs": [
        {
          "output_type": "stream",
          "name": "stdout",
          "text": [
            "\n",
            "             nogaiya glass Pendant Ceiling Hanging Lamp (Clear)\n",
            "            \n",
            "\n",
            "                           799\n",
            "                           \n",
            "                            .\n",
            "                           \n",
            "\n"
          ]
        }
      ]
    },
    {
      "cell_type": "code",
      "source": [
        "# Clean up the data a little bit\n",
        "\n",
        "price = price.strip()[:3]\n",
        "title = title.strip()\n",
        "\n",
        "print(title)\n",
        "print(price)"
      ],
      "metadata": {
        "colab": {
          "base_uri": "https://localhost:8080/"
        },
        "id": "rmRz1gmNYrOi",
        "outputId": "c331c203-1ad6-47d1-962f-019da5a664c6"
      },
      "execution_count": 48,
      "outputs": [
        {
          "output_type": "stream",
          "name": "stdout",
          "text": [
            "nogaiya glass Pendant Ceiling Hanging Lamp (Clear)\n",
            "799\n"
          ]
        }
      ]
    },
    {
      "cell_type": "code",
      "source": [
        "# Create a Timestamp for your output to track when data was collected\n",
        "\n",
        "import datetime\n",
        "\n",
        "today = datetime.date.today()\n",
        "\n",
        "print(today)\n"
      ],
      "metadata": {
        "colab": {
          "base_uri": "https://localhost:8080/"
        },
        "id": "TNXgv2frdTp3",
        "outputId": "5f179a7d-54ea-4d98-a3ab-16c793d679e8"
      },
      "execution_count": 49,
      "outputs": [
        {
          "output_type": "stream",
          "name": "stdout",
          "text": [
            "2023-09-16\n"
          ]
        }
      ]
    },
    {
      "cell_type": "code",
      "source": [
        "#Importing the data into a csv file\n",
        "import csv\n",
        "\n",
        "#Need headers and the corresponding data\n",
        "header = ['Title','Price','Date']\n",
        "data=[title, price, today]   #the ones that were scrapped\n",
        "\n",
        "with open('AmazonWebScrappedData.csv', 'w', newline='', encoding = 'UTF8') as f:\n",
        "    writer=csv.writer(f)\n",
        "    writer.writerow(header)\n",
        "    writer.writerow(data)"
      ],
      "metadata": {
        "id": "OWEixaaadVPk"
      },
      "execution_count": 52,
      "outputs": []
    },
    {
      "cell_type": "code",
      "source": [
        "#Display the contents of csv instead of opening everytime\n",
        "\n",
        "import pandas as pd\n",
        "df= pd.read_csv(\"/content/AmazonWebScrappedData.csv\")\n",
        "df"
      ],
      "metadata": {
        "colab": {
          "base_uri": "https://localhost:8080/",
          "height": 80
        },
        "id": "mcENyJc5d9pB",
        "outputId": "25a4fbb6-44ab-4d31-eb2c-d24e2fb497a5"
      },
      "execution_count": 58,
      "outputs": [
        {
          "output_type": "execute_result",
          "data": {
            "text/plain": [
              "                                               Title  Price        Date\n",
              "0  nogaiya glass Pendant Ceiling Hanging Lamp (Cl...    799  2023-09-16"
            ],
            "text/html": [
              "\n",
              "  <div id=\"df-2c0523c6-1e5a-426a-9618-e40b8ebcdf6d\" class=\"colab-df-container\">\n",
              "    <div>\n",
              "<style scoped>\n",
              "    .dataframe tbody tr th:only-of-type {\n",
              "        vertical-align: middle;\n",
              "    }\n",
              "\n",
              "    .dataframe tbody tr th {\n",
              "        vertical-align: top;\n",
              "    }\n",
              "\n",
              "    .dataframe thead th {\n",
              "        text-align: right;\n",
              "    }\n",
              "</style>\n",
              "<table border=\"1\" class=\"dataframe\">\n",
              "  <thead>\n",
              "    <tr style=\"text-align: right;\">\n",
              "      <th></th>\n",
              "      <th>Title</th>\n",
              "      <th>Price</th>\n",
              "      <th>Date</th>\n",
              "    </tr>\n",
              "  </thead>\n",
              "  <tbody>\n",
              "    <tr>\n",
              "      <th>0</th>\n",
              "      <td>nogaiya glass Pendant Ceiling Hanging Lamp (Cl...</td>\n",
              "      <td>799</td>\n",
              "      <td>2023-09-16</td>\n",
              "    </tr>\n",
              "  </tbody>\n",
              "</table>\n",
              "</div>\n",
              "    <div class=\"colab-df-buttons\">\n",
              "\n",
              "  <div class=\"colab-df-container\">\n",
              "    <button class=\"colab-df-convert\" onclick=\"convertToInteractive('df-2c0523c6-1e5a-426a-9618-e40b8ebcdf6d')\"\n",
              "            title=\"Convert this dataframe to an interactive table.\"\n",
              "            style=\"display:none;\">\n",
              "\n",
              "  <svg xmlns=\"http://www.w3.org/2000/svg\" height=\"24px\" viewBox=\"0 -960 960 960\">\n",
              "    <path d=\"M120-120v-720h720v720H120Zm60-500h600v-160H180v160Zm220 220h160v-160H400v160Zm0 220h160v-160H400v160ZM180-400h160v-160H180v160Zm440 0h160v-160H620v160ZM180-180h160v-160H180v160Zm440 0h160v-160H620v160Z\"/>\n",
              "  </svg>\n",
              "    </button>\n",
              "\n",
              "  <style>\n",
              "    .colab-df-container {\n",
              "      display:flex;\n",
              "      gap: 12px;\n",
              "    }\n",
              "\n",
              "    .colab-df-convert {\n",
              "      background-color: #E8F0FE;\n",
              "      border: none;\n",
              "      border-radius: 50%;\n",
              "      cursor: pointer;\n",
              "      display: none;\n",
              "      fill: #1967D2;\n",
              "      height: 32px;\n",
              "      padding: 0 0 0 0;\n",
              "      width: 32px;\n",
              "    }\n",
              "\n",
              "    .colab-df-convert:hover {\n",
              "      background-color: #E2EBFA;\n",
              "      box-shadow: 0px 1px 2px rgba(60, 64, 67, 0.3), 0px 1px 3px 1px rgba(60, 64, 67, 0.15);\n",
              "      fill: #174EA6;\n",
              "    }\n",
              "\n",
              "    .colab-df-buttons div {\n",
              "      margin-bottom: 4px;\n",
              "    }\n",
              "\n",
              "    [theme=dark] .colab-df-convert {\n",
              "      background-color: #3B4455;\n",
              "      fill: #D2E3FC;\n",
              "    }\n",
              "\n",
              "    [theme=dark] .colab-df-convert:hover {\n",
              "      background-color: #434B5C;\n",
              "      box-shadow: 0px 1px 3px 1px rgba(0, 0, 0, 0.15);\n",
              "      filter: drop-shadow(0px 1px 2px rgba(0, 0, 0, 0.3));\n",
              "      fill: #FFFFFF;\n",
              "    }\n",
              "  </style>\n",
              "\n",
              "    <script>\n",
              "      const buttonEl =\n",
              "        document.querySelector('#df-2c0523c6-1e5a-426a-9618-e40b8ebcdf6d button.colab-df-convert');\n",
              "      buttonEl.style.display =\n",
              "        google.colab.kernel.accessAllowed ? 'block' : 'none';\n",
              "\n",
              "      async function convertToInteractive(key) {\n",
              "        const element = document.querySelector('#df-2c0523c6-1e5a-426a-9618-e40b8ebcdf6d');\n",
              "        const dataTable =\n",
              "          await google.colab.kernel.invokeFunction('convertToInteractive',\n",
              "                                                    [key], {});\n",
              "        if (!dataTable) return;\n",
              "\n",
              "        const docLinkHtml = 'Like what you see? Visit the ' +\n",
              "          '<a target=\"_blank\" href=https://colab.research.google.com/notebooks/data_table.ipynb>data table notebook</a>'\n",
              "          + ' to learn more about interactive tables.';\n",
              "        element.innerHTML = '';\n",
              "        dataTable['output_type'] = 'display_data';\n",
              "        await google.colab.output.renderOutput(dataTable, element);\n",
              "        const docLink = document.createElement('div');\n",
              "        docLink.innerHTML = docLinkHtml;\n",
              "        element.appendChild(docLink);\n",
              "      }\n",
              "    </script>\n",
              "  </div>\n",
              "\n",
              "    </div>\n",
              "  </div>\n"
            ]
          },
          "metadata": {},
          "execution_count": 58
        }
      ]
    },
    {
      "cell_type": "code",
      "source": [
        "#Now we are appending data to the csv\n",
        "\n",
        "with open('AmazonWebScraperDataset.csv', 'a+', newline='', encoding='UTF8') as f:\n",
        "    writer = csv.writer(f)\n",
        "    writer.writerow(data)"
      ],
      "metadata": {
        "id": "ZaadL8nFfEh9"
      },
      "execution_count": 57,
      "outputs": []
    },
    {
      "cell_type": "code",
      "source": [
        "#Automation\n",
        "\n",
        "def check_price():\n",
        "    URL = 'https://www.amazon.in/Nogaiya-Glass-Pendant-Ceiling-Hanging/dp/B08BP9QMFC/?_encoding=UTF8&pd_rd_w=TeCjc&content-id=amzn1.sym.7c0639cc-01b1-4655-8b88-a71d79ef847a&pf_rd_p=7c0639cc-01b1-4655-8b88-a71d79ef847a&pf_rd_r=0Y6E2ZC1WNC1X572G6BG&pd_rd_wg=ah1Hv&pd_rd_r=b6202ce2-b8b8-434b-9d5a-596aab76e3cb&ref_=pd_gw_unk'\n",
        "\n",
        "    headers = { \"User-Agent\": \"Mozilla/5.0 (Windows NT 10.0; Win64; x64) AppleWebKit/537.36 (KHTML, like Gecko) Chrome/111.0.0.0 Safari/537.36\",\n",
        "    \"X-Amzn-Trace-Id\": \"Root=1-641c0629-7f6f860d66a0502012976988\"}\n",
        "\n",
        "    page = requests.get(URL, headers=headers)\n",
        "\n",
        "    #Pulling data\n",
        "\n",
        "    soup1= BeautifulSoup(page.content,\"html.parser\")\n",
        "    soup2 = BeautifulSoup(soup1.prettify(), \"html.parser\")\n",
        "\n",
        "    title = soup2.find(id='productTitle').get_text()\n",
        "    price= soup2.find(class_='a-price-whole').get_text()\n",
        "\n",
        "    import datetime\n",
        "    today=datetime.date.today()\n",
        "\n",
        "    import csv\n",
        "    #Need headers and the corresponding data\n",
        "    header = ['Title','Price','Date']\n",
        "    data=[title, price, today]   #the ones that were scrapped\n",
        "\n",
        "    #Appending data to csv\n",
        "\n",
        "    with open('AmazonWebScrappedData.csv', 'a+', newline='', encoding = 'UTF8') as f:\n",
        "        writer=csv.writer(f)\n",
        "        writer.writerow(data)"
      ],
      "metadata": {
        "id": "4aW57Lp8gRgN"
      },
      "execution_count": 59,
      "outputs": []
    },
    {
      "cell_type": "code",
      "source": [
        "# Runs check_price after a set time and inputs data into your CSV\n",
        "\n",
        "while(True):\n",
        "    check_price()\n",
        "    time.sleep(86400)#time in seconds\n"
      ],
      "metadata": {
        "id": "7qbCWDkkgs3m"
      },
      "execution_count": null,
      "outputs": []
    },
    {
      "cell_type": "code",
      "source": [
        "df= pd.read_csv(\"/content/AmazonWebScrappedData.csv\")\n",
        "df"
      ],
      "metadata": {
        "id": "cO7HOfiug-1E"
      },
      "execution_count": null,
      "outputs": []
    }
  ]
}