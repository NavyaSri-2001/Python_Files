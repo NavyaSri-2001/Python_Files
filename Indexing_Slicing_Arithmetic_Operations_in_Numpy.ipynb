{
  "nbformat": 4,
  "nbformat_minor": 0,
  "metadata": {
    "colab": {
      "provenance": [],
      "authorship_tag": "ABX9TyP54L3FK4GmmSAoCt/2jeQe",
      "include_colab_link": true
    },
    "kernelspec": {
      "name": "python3",
      "display_name": "Python 3"
    },
    "language_info": {
      "name": "python"
    }
  },
  "cells": [
    {
      "cell_type": "markdown",
      "metadata": {
        "id": "view-in-github",
        "colab_type": "text"
      },
      "source": [
        "<a href=\"https://colab.research.google.com/github/NavyaSri-2001/Python_Projects/blob/main/Indexing_Slicing_Arithmetic_Operations_in_Numpy.ipynb\" target=\"_parent\"><img src=\"https://colab.research.google.com/assets/colab-badge.svg\" alt=\"Open In Colab\"/></a>"
      ]
    },
    {
      "cell_type": "markdown",
      "source": [
        "**Indexing in Numpy Arrays**"
      ],
      "metadata": {
        "id": "tSnx9Th4YbI9"
      }
    },
    {
      "cell_type": "code",
      "execution_count": 1,
      "metadata": {
        "id": "wuymft1LWtp1"
      },
      "outputs": [],
      "source": [
        "import numpy as np"
      ]
    },
    {
      "cell_type": "code",
      "source": [
        "array1=np.array([10,20,30])\n",
        "array1[0]"
      ],
      "metadata": {
        "colab": {
          "base_uri": "https://localhost:8080/"
        },
        "id": "TocWvhXvYQQ_",
        "outputId": "cc94b74a-cad7-421a-a6ab-c0bcdb133f57"
      },
      "execution_count": 2,
      "outputs": [
        {
          "output_type": "execute_result",
          "data": {
            "text/plain": [
              "10"
            ]
          },
          "metadata": {},
          "execution_count": 2
        }
      ]
    },
    {
      "cell_type": "code",
      "source": [
        "array1[-1] #from left side indexing is like 0,1,2 but if we read from right side indexing is like -1, -2, -3 that's why array1[-1] returns first element from right which is 30"
      ],
      "metadata": {
        "colab": {
          "base_uri": "https://localhost:8080/"
        },
        "id": "EOb0BeVnYXTB",
        "outputId": "40e98f51-28ee-4f2a-ede7-7a38b0578ebd"
      },
      "execution_count": 4,
      "outputs": [
        {
          "output_type": "execute_result",
          "data": {
            "text/plain": [
              "30"
            ]
          },
          "metadata": {},
          "execution_count": 4
        }
      ]
    },
    {
      "cell_type": "code",
      "source": [
        "array2=np.array([[10,20,30],[40,50,60],[70,80,90]])\n",
        "array2[0,1]"
      ],
      "metadata": {
        "colab": {
          "base_uri": "https://localhost:8080/"
        },
        "id": "xGtAjFNRYxug",
        "outputId": "7a94a06d-8524-4d2b-db2c-b1748b19cf65"
      },
      "execution_count": 12,
      "outputs": [
        {
          "output_type": "execute_result",
          "data": {
            "text/plain": [
              "20"
            ]
          },
          "metadata": {},
          "execution_count": 12
        }
      ]
    },
    {
      "cell_type": "code",
      "source": [
        "array2[0,:] #gives whole first row"
      ],
      "metadata": {
        "colab": {
          "base_uri": "https://localhost:8080/"
        },
        "id": "qFtEUdptY_KE",
        "outputId": "8fd8af38-f040-4453-c990-4cdda1dacc87"
      },
      "execution_count": 10,
      "outputs": [
        {
          "output_type": "execute_result",
          "data": {
            "text/plain": [
              "array([10, 20, 30])"
            ]
          },
          "metadata": {},
          "execution_count": 10
        }
      ]
    },
    {
      "cell_type": "code",
      "source": [
        "array2[:,1] #gives whole 2nd column"
      ],
      "metadata": {
        "colab": {
          "base_uri": "https://localhost:8080/"
        },
        "id": "_MaxHV1NZBp2",
        "outputId": "d176c0fe-7415-481e-f035-6ac377159ee2"
      },
      "execution_count": 11,
      "outputs": [
        {
          "output_type": "execute_result",
          "data": {
            "text/plain": [
              "array([20, 50, 80])"
            ]
          },
          "metadata": {},
          "execution_count": 11
        }
      ]
    },
    {
      "cell_type": "markdown",
      "source": [
        "**In 2D arrays by default elements get stored in row major which means first row 1 elements, next 2nd row etc.\n",
        "Column major means first column 1 elements, next 2nd col etc**"
      ],
      "metadata": {
        "id": "poR5LSMNZtDv"
      }
    },
    {
      "cell_type": "markdown",
      "source": [
        "**Slicing in Numpy Arrays**"
      ],
      "metadata": {
        "id": "49Q24GPuqHBc"
      }
    },
    {
      "cell_type": "markdown",
      "source": [
        "Slicing is a way to extract a subset of elements from array [start:stop:step]"
      ],
      "metadata": {
        "id": "dPNRwPSnqVke"
      }
    },
    {
      "cell_type": "code",
      "source": [
        "array1=np.array([1,2,3,4,5,6,7])\n",
        "print(array1[1:3])#starts from index 1 and goes till end index-1"
      ],
      "metadata": {
        "colab": {
          "base_uri": "https://localhost:8080/"
        },
        "id": "CEIWNEkgqLRT",
        "outputId": "cbf1dead-8960-4924-fd49-1e5da20886e4"
      },
      "execution_count": 14,
      "outputs": [
        {
          "output_type": "stream",
          "name": "stdout",
          "text": [
            "[2 3]\n"
          ]
        }
      ]
    },
    {
      "cell_type": "code",
      "source": [
        "array1[1:5:2]# skips 1 one element in b/w becoz step is 2"
      ],
      "metadata": {
        "colab": {
          "base_uri": "https://localhost:8080/"
        },
        "id": "OZ554ws-qmwj",
        "outputId": "6ad034e9-77d6-446a-db33-6ddd949dead6"
      },
      "execution_count": 16,
      "outputs": [
        {
          "output_type": "execute_result",
          "data": {
            "text/plain": [
              "array([2, 4])"
            ]
          },
          "metadata": {},
          "execution_count": 16
        }
      ]
    },
    {
      "cell_type": "code",
      "source": [
        "array1[-1:-3:-1]#for reverse direction step is necessary else will get error"
      ],
      "metadata": {
        "colab": {
          "base_uri": "https://localhost:8080/"
        },
        "id": "cXZu2YRWqvcx",
        "outputId": "3054cbdf-5fab-4a0a-d95c-2cec7217a056"
      },
      "execution_count": 22,
      "outputs": [
        {
          "output_type": "execute_result",
          "data": {
            "text/plain": [
              "array([7, 6])"
            ]
          },
          "metadata": {},
          "execution_count": 22
        }
      ]
    },
    {
      "cell_type": "code",
      "source": [
        "array1[::2]"
      ],
      "metadata": {
        "colab": {
          "base_uri": "https://localhost:8080/"
        },
        "id": "C8ad9LoXrKaU",
        "outputId": "b0ce1979-a8fa-426c-8a49-5e587ee82b25"
      },
      "execution_count": 23,
      "outputs": [
        {
          "output_type": "execute_result",
          "data": {
            "text/plain": [
              "array([1, 3, 5, 7])"
            ]
          },
          "metadata": {},
          "execution_count": 23
        }
      ]
    },
    {
      "cell_type": "code",
      "source": [
        "array1[-1:-3:-2]"
      ],
      "metadata": {
        "colab": {
          "base_uri": "https://localhost:8080/"
        },
        "id": "tWrTLl-7rQsT",
        "outputId": "7555e747-0f01-4a5c-8b02-52efdfac01aa"
      },
      "execution_count": 25,
      "outputs": [
        {
          "output_type": "execute_result",
          "data": {
            "text/plain": [
              "array([7])"
            ]
          },
          "metadata": {},
          "execution_count": 25
        }
      ]
    },
    {
      "cell_type": "code",
      "source": [
        "array1[::-1]"
      ],
      "metadata": {
        "colab": {
          "base_uri": "https://localhost:8080/"
        },
        "id": "ox-NCBgyrZ0f",
        "outputId": "e7e8dfc4-c848-4b86-91d3-d75ffa25e0fd"
      },
      "execution_count": 26,
      "outputs": [
        {
          "output_type": "execute_result",
          "data": {
            "text/plain": [
              "array([7, 6, 5, 4, 3, 2, 1])"
            ]
          },
          "metadata": {},
          "execution_count": 26
        }
      ]
    },
    {
      "cell_type": "code",
      "source": [
        "array2=np.array([[1,2,3],[4,5,6],[7,8,9],[10,11,12]])\n",
        "print(array2[1,])\n",
        "print(array2[:,1])\n",
        "print(array2[1:3,1:3])#rows from index 1 to 2, columns from index 1 to 2\n",
        "print(array2[1:3,1])\n",
        "print(array2[1,1:3])\n",
        "print(array2[1,1:10])#it wont give any error, it just selects elements till last column\n",
        "print(array2[:,1:3])#takes all rows and column 1 to column 3-1\n",
        "print(array2[1:3,:2])#takes rows from 1 to 3-1 and columns from 0 to 2-1\n",
        "print(array2[1:3,1:])"
      ],
      "metadata": {
        "colab": {
          "base_uri": "https://localhost:8080/"
        },
        "id": "HIywdAO9r9Nn",
        "outputId": "111a24e8-131f-4da0-92da-e41400fded3c"
      },
      "execution_count": 39,
      "outputs": [
        {
          "output_type": "stream",
          "name": "stdout",
          "text": [
            "[4 5 6]\n",
            "[ 2  5  8 11]\n",
            "[[5 6]\n",
            " [8 9]]\n",
            "[5 8]\n",
            "[5 6]\n",
            "[5 6]\n",
            "[[ 2  3]\n",
            " [ 5  6]\n",
            " [ 8  9]\n",
            " [11 12]]\n",
            "[[4 5]\n",
            " [7 8]]\n",
            "[[5 6]\n",
            " [8 9]]\n"
          ]
        }
      ]
    },
    {
      "cell_type": "markdown",
      "source": [
        "**Arithmatic operations on numpy arrays**\n",
        "1. addition\n",
        "2. subtraction\n",
        "3. multiplication\n",
        "4. matrix multiplication\n",
        "5. division\n",
        "6. floor division\n",
        "7. modulo\n",
        "8. transpose"
      ],
      "metadata": {
        "id": "upn-df09zWQ7"
      }
    },
    {
      "cell_type": "markdown",
      "source": [
        "For arithmatic operations, size of arrays have to be same"
      ],
      "metadata": {
        "id": "J4vwUyC30FxY"
      }
    },
    {
      "cell_type": "code",
      "source": [
        "x=np.array([[1,2],[3,4]])\n",
        "y=np.array([[5,6],[7,8]])\n",
        "x+y"
      ],
      "metadata": {
        "colab": {
          "base_uri": "https://localhost:8080/"
        },
        "id": "jSwnwisbs2bW",
        "outputId": "4da913c1-a6b8-4e77-e2d3-746dfd0658b4"
      },
      "execution_count": 40,
      "outputs": [
        {
          "output_type": "execute_result",
          "data": {
            "text/plain": [
              "array([[ 6,  8],\n",
              "       [10, 12]])"
            ]
          },
          "metadata": {},
          "execution_count": 40
        }
      ]
    },
    {
      "cell_type": "code",
      "source": [
        "print(x*y) #it just multiplies element *element at same position\n",
        "print(x@y) #matrix multiplication\n",
        "print(y/x)#division\n",
        "print(y//x)#division, which gives floor value\n",
        "print(y**x)#exponentiation or power\n",
        "print(y%x)#modulo which gives reminder\n",
        "print(x.transpose())#transpose converts rows to columns"
      ],
      "metadata": {
        "colab": {
          "base_uri": "https://localhost:8080/"
        },
        "id": "bwKlwJm07oCk",
        "outputId": "e1aae94f-9637-4512-83e6-d1ed335e41a4"
      },
      "execution_count": 50,
      "outputs": [
        {
          "output_type": "stream",
          "name": "stdout",
          "text": [
            "[[ 5 12]\n",
            " [21 32]]\n",
            "[[19 22]\n",
            " [43 50]]\n",
            "[[5.         3.        ]\n",
            " [2.33333333 2.        ]]\n",
            "[[5 3]\n",
            " [2 2]]\n",
            "[[   5   36]\n",
            " [ 343 4096]]\n",
            "[[0 0]\n",
            " [1 0]]\n",
            "[[1 3]\n",
            " [2 4]]\n"
          ]
        }
      ]
    }
  ]
}