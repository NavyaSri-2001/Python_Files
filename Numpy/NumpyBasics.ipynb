{
  "nbformat": 4,
  "nbformat_minor": 0,
  "metadata": {
    "colab": {
      "provenance": [],
      "authorship_tag": "ABX9TyMC/PIWGbmrkHw8zGg/zdk/",
      "include_colab_link": true
    },
    "kernelspec": {
      "name": "python3",
      "display_name": "Python 3"
    },
    "language_info": {
      "name": "python"
    }
  },
  "cells": [
    {
      "cell_type": "markdown",
      "metadata": {
        "id": "view-in-github",
        "colab_type": "text"
      },
      "source": [
        "<a href=\"https://colab.research.google.com/github/NavyaSri-2001/Python_Projects/blob/main/NumpyBasics.ipynb\" target=\"_parent\"><img src=\"https://colab.research.google.com/assets/colab-badge.svg\" alt=\"Open In Colab\"/></a>"
      ]
    },
    {
      "cell_type": "markdown",
      "source": [
        "**Numpy stands for Numerical Python. Used to work with arrays**"
      ],
      "metadata": {
        "id": "QfzN3PdaPmJX"
      }
    },
    {
      "cell_type": "code",
      "execution_count": 3,
      "metadata": {
        "colab": {
          "base_uri": "https://localhost:8080/"
        },
        "id": "r_P2P32FBaZZ",
        "outputId": "5d231e38-8583-4c6e-942b-db9ef983fdde"
      },
      "outputs": [
        {
          "output_type": "stream",
          "name": "stdout",
          "text": [
            "[10 20 30 40]\n"
          ]
        },
        {
          "output_type": "execute_result",
          "data": {
            "text/plain": [
              "numpy.ndarray"
            ]
          },
          "metadata": {},
          "execution_count": 3
        }
      ],
      "source": [
        "import numpy as np\n",
        "list1=[10,20,30,40]\n",
        "array1= np.array(list1)\n",
        "print(array1)\n",
        "type(array1)"
      ]
    },
    {
      "cell_type": "code",
      "source": [
        "list1=[10,20.3,30,40]\n",
        "array1= np.array(list1, dtype=int)\n",
        "print(array1)"
      ],
      "metadata": {
        "colab": {
          "base_uri": "https://localhost:8080/"
        },
        "id": "y4b5ZjCwExwg",
        "outputId": "ac8e7eaa-269a-4e92-bc6c-375c8c48407d"
      },
      "execution_count": 4,
      "outputs": [
        {
          "output_type": "stream",
          "name": "stdout",
          "text": [
            "[10 20 30 40]\n"
          ]
        }
      ]
    },
    {
      "cell_type": "code",
      "source": [
        "list1=[10,20,'hello',40]\n",
        "array1= np.array(list1, dtype='U32')#converts all elements to strings, 'U32' is for strings\n",
        "print(array1)"
      ],
      "metadata": {
        "colab": {
          "base_uri": "https://localhost:8080/"
        },
        "id": "Nvtf3mQ9E9TX",
        "outputId": "59cf1d6f-4e9e-4b58-b6a2-ca4605211a3e"
      },
      "execution_count": 32,
      "outputs": [
        {
          "output_type": "stream",
          "name": "stdout",
          "text": [
            "['10' '20' 'hello' '40']\n"
          ]
        }
      ]
    },
    {
      "cell_type": "code",
      "source": [
        "array2=np.arange(1,8) #giving range of numbers. It takes from [1-8)\n",
        "print(array2)"
      ],
      "metadata": {
        "colab": {
          "base_uri": "https://localhost:8080/"
        },
        "id": "yhcdNiCHFJoX",
        "outputId": "f47e0294-98b2-428c-c1b4-d6fb0e1957ab"
      },
      "execution_count": 9,
      "outputs": [
        {
          "output_type": "stream",
          "name": "stdout",
          "text": [
            "[1 2 3 4 5 6 7]\n"
          ]
        }
      ]
    },
    {
      "cell_type": "code",
      "source": [
        "array3=np.arange(11,17).reshape(2,3) #creating 2D array\n",
        "print(array3)"
      ],
      "metadata": {
        "colab": {
          "base_uri": "https://localhost:8080/"
        },
        "id": "gaxjxSEMFo_H",
        "outputId": "ae911231-ac88-49e2-bd78-cbfc4737533c"
      },
      "execution_count": 12,
      "outputs": [
        {
          "output_type": "stream",
          "name": "stdout",
          "text": [
            "[[11 12 13]\n",
            " [14 15 16]]\n"
          ]
        }
      ]
    },
    {
      "cell_type": "code",
      "source": [
        "array4=np.zeros((4,2), dtype=int) #creating 2d array of zeros #by default it gives float values, we can give type explicity if we want\n",
        "print(array4)"
      ],
      "metadata": {
        "colab": {
          "base_uri": "https://localhost:8080/"
        },
        "id": "DqReZ2E6GDP5",
        "outputId": "7b9a0ec1-d884-4719-f7b7-ddf897ab8eb7"
      },
      "execution_count": 16,
      "outputs": [
        {
          "output_type": "stream",
          "name": "stdout",
          "text": [
            "[[0 0]\n",
            " [0 0]\n",
            " [0 0]\n",
            " [0 0]]\n"
          ]
        }
      ]
    },
    {
      "cell_type": "code",
      "source": [
        "array5=np.ones(5)\n",
        "print(array5)"
      ],
      "metadata": {
        "colab": {
          "base_uri": "https://localhost:8080/"
        },
        "id": "8aH0vTa4HDhN",
        "outputId": "f1906060-121b-42a6-e0e6-44e97bf9f762"
      },
      "execution_count": 17,
      "outputs": [
        {
          "output_type": "stream",
          "name": "stdout",
          "text": [
            "[1. 1. 1. 1. 1.]\n"
          ]
        }
      ]
    },
    {
      "cell_type": "code",
      "source": [
        "list2=[10,20,30,40]\n",
        "array6=np.array(list2)\n",
        "print(array6)\n",
        "array7=np.array(list2).reshape(2,2)\n",
        "print(array7)"
      ],
      "metadata": {
        "colab": {
          "base_uri": "https://localhost:8080/"
        },
        "id": "q0qPwR4JHRFT",
        "outputId": "8d9524b8-ac85-4f69-cd6f-d67973350fe7"
      },
      "execution_count": 20,
      "outputs": [
        {
          "output_type": "stream",
          "name": "stdout",
          "text": [
            "[10 20 30 40]\n",
            "[[10 20]\n",
            " [30 40]]\n"
          ]
        }
      ]
    },
    {
      "cell_type": "markdown",
      "source": [
        "**Numpy Attributes**\n",
        "1. ndim #dimension of array\n",
        "2. shape #rows, columns\n",
        "3. size #no.of elements in array\n",
        "4. dtype #data type of elements in array\n",
        "5.itemsize #memory allocated to each element in bytes depends on dtype of elements"
      ],
      "metadata": {
        "id": "2U-L7uyDO8PX"
      }
    },
    {
      "cell_type": "code",
      "source": [
        "array7.ndim #since it is a 2D array gives 2"
      ],
      "metadata": {
        "colab": {
          "base_uri": "https://localhost:8080/"
        },
        "id": "95VkWv93Pu-A",
        "outputId": "d25214bf-1434-4dc1-fef4-81e2dbd87437"
      },
      "execution_count": 22,
      "outputs": [
        {
          "output_type": "execute_result",
          "data": {
            "text/plain": [
              "2"
            ]
          },
          "metadata": {},
          "execution_count": 22
        }
      ]
    },
    {
      "cell_type": "code",
      "source": [
        "array7.shape #(rows,columns)"
      ],
      "metadata": {
        "colab": {
          "base_uri": "https://localhost:8080/"
        },
        "id": "yXZTmE6KQU4H",
        "outputId": "1eb3bd84-6c4d-4586-886b-bce6c20c0f8b"
      },
      "execution_count": 27,
      "outputs": [
        {
          "output_type": "execute_result",
          "data": {
            "text/plain": [
              "(2, 2)"
            ]
          },
          "metadata": {},
          "execution_count": 27
        }
      ]
    },
    {
      "cell_type": "code",
      "source": [
        "array8= np.arange(1,10)\n",
        "array8.shape #9 elemnts,"
      ],
      "metadata": {
        "colab": {
          "base_uri": "https://localhost:8080/"
        },
        "id": "In3tByMOQzTc",
        "outputId": "b6351d8e-e5cb-4d03-f7cf-9568eb6dc8f3"
      },
      "execution_count": 29,
      "outputs": [
        {
          "output_type": "execute_result",
          "data": {
            "text/plain": [
              "(9,)"
            ]
          },
          "metadata": {},
          "execution_count": 29
        }
      ]
    },
    {
      "cell_type": "code",
      "source": [
        "array7.size"
      ],
      "metadata": {
        "colab": {
          "base_uri": "https://localhost:8080/"
        },
        "id": "jVdajEL4Q7ve",
        "outputId": "cbcc43ae-c7a1-49eb-d69e-6af59b9ad69b"
      },
      "execution_count": 30,
      "outputs": [
        {
          "output_type": "execute_result",
          "data": {
            "text/plain": [
              "4"
            ]
          },
          "metadata": {},
          "execution_count": 30
        }
      ]
    },
    {
      "cell_type": "code",
      "source": [
        "array7.dtype"
      ],
      "metadata": {
        "colab": {
          "base_uri": "https://localhost:8080/"
        },
        "id": "i25GVPybRCH0",
        "outputId": "fd812347-abae-4911-be32-9a814ebbbcbf"
      },
      "execution_count": 34,
      "outputs": [
        {
          "output_type": "execute_result",
          "data": {
            "text/plain": [
              "dtype('int64')"
            ]
          },
          "metadata": {},
          "execution_count": 34
        }
      ]
    },
    {
      "cell_type": "code",
      "source": [
        "list3=[10,12,13]\n",
        "array9=np.array(list3)\n",
        "array9.dtype"
      ],
      "metadata": {
        "colab": {
          "base_uri": "https://localhost:8080/"
        },
        "id": "7JoPgo9BRsei",
        "outputId": "512d2cff-a457-4a4d-8dca-f47ba8dbc813"
      },
      "execution_count": 39,
      "outputs": [
        {
          "output_type": "execute_result",
          "data": {
            "text/plain": [
              "dtype('int64')"
            ]
          },
          "metadata": {},
          "execution_count": 39
        }
      ]
    },
    {
      "cell_type": "code",
      "source": [
        "array9.itemsize #since dtype is 64 bits, 1 byte=8 bits so itemsize will be 64/8"
      ],
      "metadata": {
        "colab": {
          "base_uri": "https://localhost:8080/"
        },
        "id": "FcUSMQMmSM7G",
        "outputId": "855fa90d-c112-44b1-a31c-e9261688be2f"
      },
      "execution_count": 40,
      "outputs": [
        {
          "output_type": "execute_result",
          "data": {
            "text/plain": [
              "8"
            ]
          },
          "metadata": {},
          "execution_count": 40
        }
      ]
    },
    {
      "cell_type": "code",
      "source": [
        "list4=['j','k']\n",
        "array10=np.array(list4)\n",
        "array10.dtype"
      ],
      "metadata": {
        "colab": {
          "base_uri": "https://localhost:8080/"
        },
        "id": "eNP6GpOjR_Vu",
        "outputId": "6b86c4b2-ab31-4152-f2b4-aa1710e68ccd"
      },
      "execution_count": 37,
      "outputs": [
        {
          "output_type": "execute_result",
          "data": {
            "text/plain": [
              "dtype('<U1')"
            ]
          },
          "metadata": {},
          "execution_count": 37
        }
      ]
    },
    {
      "cell_type": "code",
      "source": [
        "array10.itemsize #here string is 32 bits which means 32/8 which is 4"
      ],
      "metadata": {
        "colab": {
          "base_uri": "https://localhost:8080/"
        },
        "id": "dVvDWxs2SGtf",
        "outputId": "8f925f19-1072-45a7-8472-cd22ec44afec"
      },
      "execution_count": 41,
      "outputs": [
        {
          "output_type": "execute_result",
          "data": {
            "text/plain": [
              "4"
            ]
          },
          "metadata": {},
          "execution_count": 41
        }
      ]
    }
  ]
}
