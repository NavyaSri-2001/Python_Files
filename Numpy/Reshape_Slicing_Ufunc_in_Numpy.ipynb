{
  "nbformat": 4,
  "nbformat_minor": 0,
  "metadata": {
    "colab": {
      "provenance": [],
      "authorship_tag": "ABX9TyMjjd11scVQPM3uWWo4Sp36",
      "include_colab_link": true
    },
    "kernelspec": {
      "name": "python3",
      "display_name": "Python 3"
    },
    "language_info": {
      "name": "python"
    }
  },
  "cells": [
    {
      "cell_type": "markdown",
      "metadata": {
        "id": "view-in-github",
        "colab_type": "text"
      },
      "source": [
        "<a href=\"https://colab.research.google.com/github/NavyaSri-2001/Python_Projects/blob/main/Reshape_Slicing_Ufunc_in_Numpy.ipynb\" target=\"_parent\"><img src=\"https://colab.research.google.com/assets/colab-badge.svg\" alt=\"Open In Colab\"/></a>"
      ]
    },
    {
      "cell_type": "code",
      "execution_count": 1,
      "metadata": {
        "id": "HiC9kh9DN17C"
      },
      "outputs": [],
      "source": [
        "import numpy as np"
      ]
    },
    {
      "cell_type": "code",
      "source": [
        "array1=np.linspace(0,5,10)# linspace takes start point, end point, no.of points and given those no.of evenly spaced points as result\n",
        "array2=np.linspace(0,5,100)\n",
        "print(array1)\n",
        "print(array2)\n"
      ],
      "metadata": {
        "colab": {
          "base_uri": "https://localhost:8080/"
        },
        "id": "0UiQA-iHN6Rk",
        "outputId": "0b53cd61-dc22-40b5-f1a9-d32cacba6632"
      },
      "execution_count": 4,
      "outputs": [
        {
          "output_type": "stream",
          "name": "stdout",
          "text": [
            "[0.         0.55555556 1.11111111 1.66666667 2.22222222 2.77777778\n",
            " 3.33333333 3.88888889 4.44444444 5.        ]\n",
            "[0.         0.05050505 0.1010101  0.15151515 0.2020202  0.25252525\n",
            " 0.3030303  0.35353535 0.4040404  0.45454545 0.50505051 0.55555556\n",
            " 0.60606061 0.65656566 0.70707071 0.75757576 0.80808081 0.85858586\n",
            " 0.90909091 0.95959596 1.01010101 1.06060606 1.11111111 1.16161616\n",
            " 1.21212121 1.26262626 1.31313131 1.36363636 1.41414141 1.46464646\n",
            " 1.51515152 1.56565657 1.61616162 1.66666667 1.71717172 1.76767677\n",
            " 1.81818182 1.86868687 1.91919192 1.96969697 2.02020202 2.07070707\n",
            " 2.12121212 2.17171717 2.22222222 2.27272727 2.32323232 2.37373737\n",
            " 2.42424242 2.47474747 2.52525253 2.57575758 2.62626263 2.67676768\n",
            " 2.72727273 2.77777778 2.82828283 2.87878788 2.92929293 2.97979798\n",
            " 3.03030303 3.08080808 3.13131313 3.18181818 3.23232323 3.28282828\n",
            " 3.33333333 3.38383838 3.43434343 3.48484848 3.53535354 3.58585859\n",
            " 3.63636364 3.68686869 3.73737374 3.78787879 3.83838384 3.88888889\n",
            " 3.93939394 3.98989899 4.04040404 4.09090909 4.14141414 4.19191919\n",
            " 4.24242424 4.29292929 4.34343434 4.39393939 4.44444444 4.49494949\n",
            " 4.54545455 4.5959596  4.64646465 4.6969697  4.74747475 4.7979798\n",
            " 4.84848485 4.8989899  4.94949495 5.        ]\n"
          ]
        }
      ]
    },
    {
      "cell_type": "code",
      "source": [
        "a3=np.ones((2,3), dtype=int)\n",
        "print(a3)"
      ],
      "metadata": {
        "colab": {
          "base_uri": "https://localhost:8080/"
        },
        "id": "EaO3YhL-Oioj",
        "outputId": "d98ba58f-1ea8-4fbf-852a-bff8f56781a2"
      },
      "execution_count": 8,
      "outputs": [
        {
          "output_type": "stream",
          "name": "stdout",
          "text": [
            "[[1 1 1]\n",
            " [1 1 1]]\n"
          ]
        }
      ]
    },
    {
      "cell_type": "code",
      "source": [
        "np.eye(4, dtype=int) #creating identity matrix, it is a square matrix"
      ],
      "metadata": {
        "colab": {
          "base_uri": "https://localhost:8080/"
        },
        "id": "IIHDLb_aPQ9s",
        "outputId": "8848c2f9-efe1-4ef5-b451-5236d2f26b11"
      },
      "execution_count": 10,
      "outputs": [
        {
          "output_type": "execute_result",
          "data": {
            "text/plain": [
              "array([[1, 0, 0, 0],\n",
              "       [0, 1, 0, 0],\n",
              "       [0, 0, 1, 0],\n",
              "       [0, 0, 0, 1]])"
            ]
          },
          "metadata": {},
          "execution_count": 10
        }
      ]
    },
    {
      "cell_type": "code",
      "source": [
        "print(np.random.rand(5))# generating random numbers from 0-1 uniform distribution\n",
        "print(np.random.rand())#gives only 1 number b/w 0-1"
      ],
      "metadata": {
        "colab": {
          "base_uri": "https://localhost:8080/"
        },
        "id": "JHy6vnOwP2tx",
        "outputId": "6235a2d2-124b-4795-f9eb-39ef416ad921"
      },
      "execution_count": 15,
      "outputs": [
        {
          "output_type": "stream",
          "name": "stdout",
          "text": [
            "[0.06395502 0.05921409 0.44749691 0.65472534 0.39573558]\n",
            "0.32062699148423035\n"
          ]
        }
      ]
    },
    {
      "cell_type": "code",
      "source": [
        "print(np.random.randn(2))#generates random numbers based on standard normal distribution\n",
        "print(np.random.randn(2,3))"
      ],
      "metadata": {
        "colab": {
          "base_uri": "https://localhost:8080/"
        },
        "id": "e2xqFQBEQe7P",
        "outputId": "3ae37abc-5e4c-4632-e813-1cda2dcf167b"
      },
      "execution_count": 19,
      "outputs": [
        {
          "output_type": "stream",
          "name": "stdout",
          "text": [
            "[-1.0167495   0.16978046]\n",
            "[[-1.19998083  0.61830044  0.42877848]\n",
            " [-0.53531962  0.33471675 -0.32485428]]\n"
          ]
        }
      ]
    },
    {
      "cell_type": "code",
      "source": [
        "np.random.randint(1,100,10)#generates 10 random integers b/w 1-99"
      ],
      "metadata": {
        "colab": {
          "base_uri": "https://localhost:8080/"
        },
        "id": "R1b0pwU3QMCa",
        "outputId": "63a5d2f4-f734-4593-fbdd-4c0f905f4745"
      },
      "execution_count": 20,
      "outputs": [
        {
          "output_type": "execute_result",
          "data": {
            "text/plain": [
              "array([54, 12, 90, 50, 56,  9, 70,  3, 89, 78])"
            ]
          },
          "metadata": {},
          "execution_count": 20
        }
      ]
    },
    {
      "cell_type": "code",
      "source": [
        "arr=np.arange(25)\n",
        "print(arr)\n",
        "#reshaping array\n",
        "print(arr.reshape(5,5))#size must be same like 25 elements only"
      ],
      "metadata": {
        "colab": {
          "base_uri": "https://localhost:8080/"
        },
        "id": "AKwJk3SDTiKR",
        "outputId": "6d686d32-0f7f-4fbd-f2d4-ca73117a108b"
      },
      "execution_count": 25,
      "outputs": [
        {
          "output_type": "stream",
          "name": "stdout",
          "text": [
            "[ 0  1  2  3  4  5  6  7  8  9 10 11 12 13 14 15 16 17 18 19 20 21 22 23\n",
            " 24]\n",
            "[[ 0  1  2  3  4]\n",
            " [ 5  6  7  8  9]\n",
            " [10 11 12 13 14]\n",
            " [15 16 17 18 19]\n",
            " [20 21 22 23 24]]\n"
          ]
        }
      ]
    },
    {
      "cell_type": "code",
      "source": [
        "ranarr=np.random.randint(1,100,10)\n",
        "print(ranarr)"
      ],
      "metadata": {
        "colab": {
          "base_uri": "https://localhost:8080/"
        },
        "id": "95pO3jfMUGd8",
        "outputId": "87dae394-720e-4a3f-8240-fb8c08959700"
      },
      "execution_count": 30,
      "outputs": [
        {
          "output_type": "stream",
          "name": "stdout",
          "text": [
            "[ 2 96 11 52 52 23 70 55 90 35]\n"
          ]
        }
      ]
    },
    {
      "cell_type": "code",
      "source": [
        "print(ranarr.max())\n",
        "print(ranarr.argmax())#gives index of max number\n",
        "print(ranarr.argmin())"
      ],
      "metadata": {
        "colab": {
          "base_uri": "https://localhost:8080/"
        },
        "id": "rxlzWIxjUVgl",
        "outputId": "f5c6bafc-a628-4718-ef79-a4f11fcd3b52"
      },
      "execution_count": 33,
      "outputs": [
        {
          "output_type": "stream",
          "name": "stdout",
          "text": [
            "96\n",
            "1\n",
            "0\n"
          ]
        }
      ]
    },
    {
      "cell_type": "code",
      "source": [
        "#if we dont want to type np.random.randint\n",
        "from numpy.random import randint\n",
        "randint(2,10)"
      ],
      "metadata": {
        "colab": {
          "base_uri": "https://localhost:8080/"
        },
        "id": "jNDBl5ZsU-mj",
        "outputId": "82571af0-21a5-422d-8242-d1d3954cbd7c"
      },
      "execution_count": 34,
      "outputs": [
        {
          "output_type": "execute_result",
          "data": {
            "text/plain": [
              "9"
            ]
          },
          "metadata": {},
          "execution_count": 34
        }
      ]
    },
    {
      "cell_type": "code",
      "source": [
        "#slicing in numpy arrays\n",
        "arr=np.arange(0,11)\n",
        "print(arr)\n",
        "slice_arr=arr[0:6]\n",
        "print(slice_arr)\n",
        "slice_arr[:6]=99\n",
        "print(slice_arr)\n",
        "print(arr)#the above step modifies original array also bcoz of memory issues"
      ],
      "metadata": {
        "colab": {
          "base_uri": "https://localhost:8080/"
        },
        "id": "T3jMIRhHcdIy",
        "outputId": "dd3df2ee-cf09-42c0-ec03-3e00f61e6190"
      },
      "execution_count": 39,
      "outputs": [
        {
          "output_type": "stream",
          "name": "stdout",
          "text": [
            "[ 0  1  2  3  4  5  6  7  8  9 10]\n",
            "[0 1 2 3 4 5]\n",
            "[99 99 99 99 99 99]\n",
            "[99 99 99 99 99 99  6  7  8  9 10]\n"
          ]
        }
      ]
    },
    {
      "cell_type": "code",
      "source": [
        "arr=np.arange(0,11)\n",
        "print(arr)\n",
        "arr_copy=arr.copy()\n",
        "print(arr_copy)\n",
        "arr_copy[:]=100\n",
        "print(arr_copy)\n",
        "print(arr)#original array is not changed becoz we created a copy and just modified it"
      ],
      "metadata": {
        "colab": {
          "base_uri": "https://localhost:8080/"
        },
        "id": "2ReTyMrZdE9Q",
        "outputId": "c46a13ea-eadd-45d5-f4a5-9d7f2b1f6499"
      },
      "execution_count": 41,
      "outputs": [
        {
          "output_type": "stream",
          "name": "stdout",
          "text": [
            "[ 0  1  2  3  4  5  6  7  8  9 10]\n",
            "[ 0  1  2  3  4  5  6  7  8  9 10]\n",
            "[100 100 100 100 100 100 100 100 100 100 100]\n",
            "[ 0  1  2  3  4  5  6  7  8  9 10]\n"
          ]
        }
      ]
    },
    {
      "cell_type": "code",
      "source": [
        "#slicing and indexing in 2D arrays\n",
        "arr2=np.array([[1,2,3],[4,5,6],[7,8,9]])\n",
        "print(arr2)\n",
        "print(arr2[0][2])\n",
        "print(arr2[0,2])#both are same\n",
        "print(arr2[:2,1:])#gives right 2 columns of first 2 rows\n",
        "print(arr2[:2])#gives first 2 rows"
      ],
      "metadata": {
        "colab": {
          "base_uri": "https://localhost:8080/"
        },
        "id": "5lFyV6BplMnM",
        "outputId": "81655cfb-0e1d-4f53-970e-c88bc5c0c366"
      },
      "execution_count": 45,
      "outputs": [
        {
          "output_type": "stream",
          "name": "stdout",
          "text": [
            "[[1 2 3]\n",
            " [4 5 6]\n",
            " [7 8 9]]\n",
            "3\n",
            "3\n",
            "[[2 3]\n",
            " [5 6]]\n",
            "[[1 2 3]\n",
            " [4 5 6]]\n"
          ]
        }
      ]
    },
    {
      "cell_type": "code",
      "source": [
        "arr=np.arange(1,11)\n",
        "print(arr)\n",
        "bool_arr=arr>5#conditional arrays\n",
        "print(bool_arr)\n",
        "print(arr[bool_arr])#we get only those values from arr where bool_arr is true\n",
        "print(arr[arr<3])#we can do this in a single step"
      ],
      "metadata": {
        "colab": {
          "base_uri": "https://localhost:8080/"
        },
        "id": "lR-ZoM53l75z",
        "outputId": "1ff585d1-6503-421f-bdfd-ee3b9d99518c"
      },
      "execution_count": 49,
      "outputs": [
        {
          "output_type": "stream",
          "name": "stdout",
          "text": [
            "[ 1  2  3  4  5  6  7  8  9 10]\n",
            "[False False False False False  True  True  True  True  True]\n",
            "[ 6  7  8  9 10]\n",
            "[1 2]\n"
          ]
        }
      ]
    },
    {
      "cell_type": "markdown",
      "source": [
        "**ufunc or universal functions in numpy**\n",
        "There are some universal functions in numpy predefined, if we want to add any additional function to ufunc library we should use frompyfunc(). frompyfunc() takes 3 args, name of func, no.of input args/arrays, no.of output arrays"
      ],
      "metadata": {
        "id": "m6H5ReJfqrcK"
      }
    },
    {
      "cell_type": "code",
      "source": [
        "def myadd(x,y):\n",
        "  return x+y\n",
        "myadd=np.frompyfunc(myadd,2,1)\n",
        "print(myadd([1,2,3],[1,2,3]))"
      ],
      "metadata": {
        "colab": {
          "base_uri": "https://localhost:8080/"
        },
        "id": "A9GQS17CrexJ",
        "outputId": "979bf1b6-f80c-4a02-9647-c2918dd85dde"
      },
      "execution_count": 50,
      "outputs": [
        {
          "output_type": "stream",
          "name": "stdout",
          "text": [
            "[2 4 6]\n"
          ]
        }
      ]
    },
    {
      "cell_type": "code",
      "source": [
        "print(type(np.add)) #Check if a function is a ufunc"
      ],
      "metadata": {
        "colab": {
          "base_uri": "https://localhost:8080/"
        },
        "id": "MtkrkG6Lr00Q",
        "outputId": "6d48a2d2-76f2-41b2-8596-5f8940441dfd"
      },
      "execution_count": 51,
      "outputs": [
        {
          "output_type": "stream",
          "name": "stdout",
          "text": [
            "<class 'numpy.ufunc'>\n"
          ]
        }
      ]
    },
    {
      "cell_type": "code",
      "source": [
        "if type(np.add) == np.ufunc:\n",
        "  print('add is ufunc')\n",
        "else:\n",
        "  print('add is not ufunc')"
      ],
      "metadata": {
        "colab": {
          "base_uri": "https://localhost:8080/"
        },
        "id": "IgVw43gGr8Os",
        "outputId": "95b90c33-f76d-4fef-f665-6429732d8a3e"
      },
      "execution_count": 52,
      "outputs": [
        {
          "output_type": "stream",
          "name": "stdout",
          "text": [
            "add is ufunc\n"
          ]
        }
      ]
    }
  ]
}
