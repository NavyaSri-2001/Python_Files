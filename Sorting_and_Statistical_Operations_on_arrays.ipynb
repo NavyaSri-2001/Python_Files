{
  "nbformat": 4,
  "nbformat_minor": 0,
  "metadata": {
    "colab": {
      "provenance": [],
      "authorship_tag": "ABX9TyOtesl6TB4+0168nJYhwBzx",
      "include_colab_link": true
    },
    "kernelspec": {
      "name": "python3",
      "display_name": "Python 3"
    },
    "language_info": {
      "name": "python"
    }
  },
  "cells": [
    {
      "cell_type": "markdown",
      "metadata": {
        "id": "view-in-github",
        "colab_type": "text"
      },
      "source": [
        "<a href=\"https://colab.research.google.com/github/NavyaSri-2001/Python_Projects/blob/main/Sorting_and_Statistical_Operations_on_arrays.ipynb\" target=\"_parent\"><img src=\"https://colab.research.google.com/assets/colab-badge.svg\" alt=\"Open In Colab\"/></a>"
      ]
    },
    {
      "cell_type": "markdown",
      "source": [
        "**Sorting 1D and 2D arrays**"
      ],
      "metadata": {
        "id": "TpWHyrA_LmqQ"
      }
    },
    {
      "cell_type": "code",
      "execution_count": 1,
      "metadata": {
        "id": "V6DjjAPaC2_-"
      },
      "outputs": [],
      "source": [
        "import numpy as np"
      ]
    },
    {
      "cell_type": "code",
      "source": [
        "x=np.array([2,7,1])\n",
        "y=np.sort(x)\n",
        "z=np.sort(x)[::-1]#sorting in descending order\n",
        "z2=-np.sort(-x)#z and z2 are same\n",
        "print(y)\n",
        "print(z)\n",
        "print(z2)"
      ],
      "metadata": {
        "colab": {
          "base_uri": "https://localhost:8080/"
        },
        "id": "NNPrqo8bDwtW",
        "outputId": "b242d8c4-d1c0-4198-aae8-3c7390172dd9"
      },
      "execution_count": 23,
      "outputs": [
        {
          "output_type": "stream",
          "name": "stdout",
          "text": [
            "[1 2 7]\n",
            "[7 2 1]\n",
            "[7 2 1]\n"
          ]
        }
      ]
    },
    {
      "cell_type": "code",
      "source": [
        "x=np.array([[5,8,2],[10,5,9],[4,2,7]])\n",
        "y=np.sort(x)#by default it sorts row wise or we can write y=np.sort(x,axis=1) both are same\n",
        "y2=-np.sort(-x)#sorting in descening order\n",
        "z=np.sort(x,axis=0)#to sort column wise\n",
        "print(x)\n",
        "print(y)\n",
        "print(y2)\n",
        "print(z)"
      ],
      "metadata": {
        "colab": {
          "base_uri": "https://localhost:8080/"
        },
        "id": "TY3b6afnD6Xs",
        "outputId": "f852957a-439f-49d4-d29b-6c9ccd841008"
      },
      "execution_count": 22,
      "outputs": [
        {
          "output_type": "stream",
          "name": "stdout",
          "text": [
            "[[ 5  8  2]\n",
            " [10  5  9]\n",
            " [ 4  2  7]]\n",
            "[[ 2  5  8]\n",
            " [ 5  9 10]\n",
            " [ 2  4  7]]\n",
            "[[ 8  5  2]\n",
            " [10  9  5]\n",
            " [ 7  4  2]]\n",
            "[[ 4  2  2]\n",
            " [ 5  5  7]\n",
            " [10  8  9]]\n"
          ]
        }
      ]
    },
    {
      "cell_type": "code",
      "source": [
        "y=np.argsort(x)#gives indexes of sorted values\n",
        "y2=np.argsort(x,axis=1)#y and y2 are same\n",
        "z=np.argsort(x,axis=0)#column wise sorted values indexes\n",
        "print(y)\n",
        "print(y2)\n",
        "print(z)"
      ],
      "metadata": {
        "colab": {
          "base_uri": "https://localhost:8080/"
        },
        "id": "8zUB47WuE2wP",
        "outputId": "54aa797a-10f2-4e0c-d488-f5daafda88f3"
      },
      "execution_count": 8,
      "outputs": [
        {
          "output_type": "stream",
          "name": "stdout",
          "text": [
            "[[2 0 1]\n",
            " [1 2 0]\n",
            " [1 0 2]]\n",
            "[[2 0 1]\n",
            " [1 2 0]\n",
            " [1 0 2]]\n",
            "[[2 2 0]\n",
            " [0 1 2]\n",
            " [1 0 1]]\n"
          ]
        }
      ]
    },
    {
      "cell_type": "code",
      "source": [
        "x=np.array([[5,8,2],[10,5,9],[4,2,7]])\n",
        "x.sort()#sorting inplace without using new variable\n",
        "print(x)"
      ],
      "metadata": {
        "colab": {
          "base_uri": "https://localhost:8080/"
        },
        "id": "3kqZ1hMvFlGF",
        "outputId": "789c9b82-c5bb-4f6c-ca2d-3fd0b11be25c"
      },
      "execution_count": 12,
      "outputs": [
        {
          "output_type": "stream",
          "name": "stdout",
          "text": [
            "[[ 2  5  8]\n",
            " [ 5  9 10]\n",
            " [ 2  4  7]]\n"
          ]
        }
      ]
    },
    {
      "cell_type": "markdown",
      "source": [
        "**Statistical operations on 1D array**"
      ],
      "metadata": {
        "id": "vO3uFX5CLs6t"
      }
    },
    {
      "cell_type": "markdown",
      "source": [
        "1. max\n",
        "2. min\n",
        "3. sum\n",
        "4. mean\n",
        "5. median\n",
        "6. prod\n",
        "7. var\n",
        "8. std"
      ],
      "metadata": {
        "id": "UBCYSVuUL0WW"
      }
    },
    {
      "cell_type": "code",
      "source": [
        "x=np.array([3,4,1,2,5,6])\n",
        "print(np.max(x))\n",
        "print(np.min(x))\n",
        "print(np.sum(x))\n",
        "print(np.mean(x))\n",
        "print(np.median(x))#sorts the array and gives middle value\n",
        "print(np.prod(x))#product of values\n",
        "print(np.var(x))#variance : how distant elements are from mean sqrt((mean-e1)square+(mean-e2)sqaure....)etc\n",
        "print(np.std(x))#square of variance"
      ],
      "metadata": {
        "colab": {
          "base_uri": "https://localhost:8080/"
        },
        "id": "0yk0ATtOLzlz",
        "outputId": "baa6601d-664a-46cc-8460-ff50f1425f15"
      },
      "execution_count": 28,
      "outputs": [
        {
          "output_type": "stream",
          "name": "stdout",
          "text": [
            "6\n",
            "1\n",
            "21\n",
            "3.5\n",
            "3.5\n",
            "720\n",
            "2.9166666666666665\n",
            "1.707825127659933\n"
          ]
        }
      ]
    }
  ]
}