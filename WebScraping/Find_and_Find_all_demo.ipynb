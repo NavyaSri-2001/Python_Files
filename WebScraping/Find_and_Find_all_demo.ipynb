{
  "nbformat": 4,
  "nbformat_minor": 0,
  "metadata": {
    "colab": {
      "provenance": []
    },
    "kernelspec": {
      "name": "python3",
      "display_name": "Python 3"
    },
    "language_info": {
      "name": "python"
    }
  },
  "cells": [
    {
      "cell_type": "code",
      "execution_count": 2,
      "metadata": {
        "id": "ePilHxtIFdBM"
      },
      "outputs": [],
      "source": [
        "from bs4 import BeautifulSoup\n",
        "import requests"
      ]
    },
    {
      "cell_type": "code",
      "source": [
        "url ='https://www.scrapethissite.com/pages/forms/'"
      ],
      "metadata": {
        "id": "2pQMOXptF-IM"
      },
      "execution_count": 3,
      "outputs": []
    },
    {
      "cell_type": "code",
      "source": [
        "page=requests.get(url)"
      ],
      "metadata": {
        "id": "jCa2BD6jGCCd"
      },
      "execution_count": 4,
      "outputs": []
    },
    {
      "cell_type": "code",
      "source": [
        "soup= BeautifulSoup(page.text,'html')"
      ],
      "metadata": {
        "id": "INX-93mCGnWh"
      },
      "execution_count": 5,
      "outputs": []
    },
    {
      "cell_type": "code",
      "source": [
        "print(soup)"
      ],
      "metadata": {
        "id": "MudsuinKGs3L"
      },
      "execution_count": null,
      "outputs": []
    },
    {
      "cell_type": "code",
      "source": [
        "print(soup.prettify())"
      ],
      "metadata": {
        "id": "-2D9wC9oG9d_"
      },
      "execution_count": null,
      "outputs": []
    },
    {
      "cell_type": "code",
      "source": [
        "soup.find('p')"
      ],
      "metadata": {
        "colab": {
          "base_uri": "https://localhost:8080/"
        },
        "id": "_UR2kGok6LZc",
        "outputId": "446a3ad6-e3e5-4b6e-a2eb-ce21bd05112c"
      },
      "execution_count": 8,
      "outputs": [
        {
          "output_type": "execute_result",
          "data": {
            "text/plain": [
              "<p class=\"lead\">\n",
              "                            Browse through a database of NHL team stats since 1990. Practice building a scraper that handles common website interface components.\n",
              "                            Take a look at how pagination and search elements change the URL as your browse. Build a web scraper that can conduct searches and paginate through the results.\n",
              "                        </p>"
            ]
          },
          "metadata": {},
          "execution_count": 8
        }
      ]
    },
    {
      "cell_type": "code",
      "source": [
        "soup.find_all('p')"
      ],
      "metadata": {
        "colab": {
          "base_uri": "https://localhost:8080/"
        },
        "id": "Aj_nPTxF6e0v",
        "outputId": "bef3673e-f931-4516-c313-923ff8c83abb"
      },
      "execution_count": 9,
      "outputs": [
        {
          "output_type": "execute_result",
          "data": {
            "text/plain": [
              "[<p class=\"lead\">\n",
              "                             Browse through a database of NHL team stats since 1990. Practice building a scraper that handles common website interface components.\n",
              "                             Take a look at how pagination and search elements change the URL as your browse. Build a web scraper that can conduct searches and paginate through the results.\n",
              "                         </p>,\n",
              " <p>\n",
              " <i class=\"glyphicon glyphicon-education\"></i> There are <a href=\"/lessons/\">8 video lessons</a> that show you how to scrape this page.\n",
              "                         </p>,\n",
              " <p>\n",
              "                             \n",
              "                                 Data via\n",
              "                                 <a class=\"data-attribution\" href=\"http://www.opensourcesports.com/hockey/\" target=\"_blank\">http://www.opensourcesports.com/hockey/</a>\n",
              " </p>]"
            ]
          },
          "metadata": {},
          "execution_count": 9
        }
      ]
    },
    {
      "cell_type": "code",
      "source": [
        "soup.find('p',class_='lead')"
      ],
      "metadata": {
        "colab": {
          "base_uri": "https://localhost:8080/"
        },
        "id": "XLQ2Q8Z86fAZ",
        "outputId": "fdef440b-e9e1-44f5-a6b8-1e1f6d7d1fc0"
      },
      "execution_count": 14,
      "outputs": [
        {
          "output_type": "execute_result",
          "data": {
            "text/plain": [
              "<p class=\"lead\">\n",
              "                            Browse through a database of NHL team stats since 1990. Practice building a scraper that handles common website interface components.\n",
              "                            Take a look at how pagination and search elements change the URL as your browse. Build a web scraper that can conduct searches and paginate through the results.\n",
              "                        </p>"
            ]
          },
          "metadata": {},
          "execution_count": 14
        }
      ]
    },
    {
      "cell_type": "code",
      "source": [
        "soup.find('p',class_='lead').text.strip()"
      ],
      "metadata": {
        "colab": {
          "base_uri": "https://localhost:8080/",
          "height": 70
        },
        "id": "ngfeEKBt7joV",
        "outputId": "ab9110b6-112c-4223-b733-df03db3ec775"
      },
      "execution_count": 16,
      "outputs": [
        {
          "output_type": "execute_result",
          "data": {
            "text/plain": [
              "'Browse through a database of NHL team stats since 1990. Practice building a scraper that handles common website interface components.\\n                            Take a look at how pagination and search elements change the URL as your browse. Build a web scraper that can conduct searches and paginate through the results.'"
            ],
            "application/vnd.google.colaboratory.intrinsic+json": {
              "type": "string"
            }
          },
          "metadata": {},
          "execution_count": 16
        }
      ]
    },
    {
      "cell_type": "code",
      "source": [
        "soup.find_all('th')"
      ],
      "metadata": {
        "colab": {
          "base_uri": "https://localhost:8080/"
        },
        "id": "Pelj_zM28PiW",
        "outputId": "a7844f1f-2fed-4c0b-c20a-beee3be4474e"
      },
      "execution_count": 17,
      "outputs": [
        {
          "output_type": "execute_result",
          "data": {
            "text/plain": [
              "[<th>\n",
              "                             Team Name\n",
              "                         </th>,\n",
              " <th>\n",
              "                             Year\n",
              "                         </th>,\n",
              " <th>\n",
              "                             Wins\n",
              "                         </th>,\n",
              " <th>\n",
              "                             Losses\n",
              "                         </th>,\n",
              " <th>\n",
              "                             OT Losses\n",
              "                         </th>,\n",
              " <th>\n",
              "                             Win %\n",
              "                         </th>,\n",
              " <th>\n",
              "                             Goals For (GF)\n",
              "                         </th>,\n",
              " <th>\n",
              "                             Goals Against (GA)\n",
              "                         </th>,\n",
              " <th>\n",
              "                             + / -\n",
              "                         </th>]"
            ]
          },
          "metadata": {},
          "execution_count": 17
        }
      ]
    },
    {
      "cell_type": "code",
      "source": [
        "soup.find('th').text.strip()"
      ],
      "metadata": {
        "colab": {
          "base_uri": "https://localhost:8080/",
          "height": 35
        },
        "id": "VvKsc7V68PsT",
        "outputId": "1c433f5b-1e6a-4eae-89b9-121d4e97af66"
      },
      "execution_count": 19,
      "outputs": [
        {
          "output_type": "execute_result",
          "data": {
            "text/plain": [
              "'Team Name'"
            ],
            "application/vnd.google.colaboratory.intrinsic+json": {
              "type": "string"
            }
          },
          "metadata": {},
          "execution_count": 19
        }
      ]
    }
  ]
}
